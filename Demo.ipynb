{
 "cells": [
  {
   "cell_type": "code",
   "execution_count": 1,
   "metadata": {},
   "outputs": [],
   "source": [
    "import numpy as np\n",
    "import matplotlib .pyplot as plt\n",
    "import pandas as pd"
   ]
  },
  {
   "cell_type": "code",
   "execution_count": 2,
   "metadata": {},
   "outputs": [
    {
     "data": {
      "text/html": [
       "<div>\n",
       "<style scoped>\n",
       "    .dataframe tbody tr th:only-of-type {\n",
       "        vertical-align: middle;\n",
       "    }\n",
       "\n",
       "    .dataframe tbody tr th {\n",
       "        vertical-align: top;\n",
       "    }\n",
       "\n",
       "    .dataframe thead th {\n",
       "        text-align: right;\n",
       "    }\n",
       "</style>\n",
       "<table border=\"1\" class=\"dataframe\">\n",
       "  <thead>\n",
       "    <tr style=\"text-align: right;\">\n",
       "      <th></th>\n",
       "      <th>ID</th>\n",
       "      <th>TITLE</th>\n",
       "      <th>COMMENT</th>\n",
       "      <th>RATING</th>\n",
       "      <th>SENTIMEN</th>\n",
       "    </tr>\n",
       "  </thead>\n",
       "  <tbody>\n",
       "    <tr>\n",
       "      <td>0</td>\n",
       "      <td>1611</td>\n",
       "      <td>Banyak kekurangan</td>\n",
       "      <td>Tidak seperti di iphone menunya kurang, jadwal...</td>\n",
       "      <td>1</td>\n",
       "      <td>Negative</td>\n",
       "    </tr>\n",
       "    <tr>\n",
       "      <td>1</td>\n",
       "      <td>1612</td>\n",
       "      <td>Need update!</td>\n",
       "      <td>Kurang bersahabat ama VoiceOver nih. Semoga ha...</td>\n",
       "      <td>4</td>\n",
       "      <td>Negative</td>\n",
       "    </tr>\n",
       "    <tr>\n",
       "      <td>2</td>\n",
       "      <td>1613</td>\n",
       "      <td>Baru seperti ini sudah puas?</td>\n",
       "      <td>Hampir setahun belum ada update, UI tidak ada ...</td>\n",
       "      <td>1</td>\n",
       "      <td>Negative</td>\n",
       "    </tr>\n",
       "    <tr>\n",
       "      <td>3</td>\n",
       "      <td>1614</td>\n",
       "      <td>Crash melulu</td>\n",
       "      <td>Mohon appnya diperbaiki.. Crashnya ga ketolong...</td>\n",
       "      <td>1</td>\n",
       "      <td>Negative</td>\n",
       "    </tr>\n",
       "    <tr>\n",
       "      <td>4</td>\n",
       "      <td>1615</td>\n",
       "      <td>Sampah</td>\n",
       "      <td>Aplikasi sampah, crash mulu,errorny banyak,ga ...</td>\n",
       "      <td>1</td>\n",
       "      <td>Negative</td>\n",
       "    </tr>\n",
       "    <tr>\n",
       "      <td>...</td>\n",
       "      <td>...</td>\n",
       "      <td>...</td>\n",
       "      <td>...</td>\n",
       "      <td>...</td>\n",
       "      <td>...</td>\n",
       "    </tr>\n",
       "    <tr>\n",
       "      <td>548</td>\n",
       "      <td>2757</td>\n",
       "      <td>Usul</td>\n",
       "      <td>Aplikasi yg sangat membantu, ada beberapa usul...</td>\n",
       "      <td>3</td>\n",
       "      <td>Positive</td>\n",
       "    </tr>\n",
       "    <tr>\n",
       "      <td>549</td>\n",
       "      <td>2758</td>\n",
       "      <td>Mantap!</td>\n",
       "      <td>Keren gan. Update terus agar lebih lengkap.</td>\n",
       "      <td>5</td>\n",
       "      <td>Positive</td>\n",
       "    </tr>\n",
       "    <tr>\n",
       "      <td>550</td>\n",
       "      <td>2759</td>\n",
       "      <td>All in one app</td>\n",
       "      <td>Applikasi yang sangat berguna untuk aktifitas ...</td>\n",
       "      <td>5</td>\n",
       "      <td>Positive</td>\n",
       "    </tr>\n",
       "    <tr>\n",
       "      <td>551</td>\n",
       "      <td>2760</td>\n",
       "      <td>Lumayan</td>\n",
       "      <td>Bagus juga, jadi mudah nyari tempat dan simple...</td>\n",
       "      <td>4</td>\n",
       "      <td>Positive</td>\n",
       "    </tr>\n",
       "    <tr>\n",
       "      <td>552</td>\n",
       "      <td>2761</td>\n",
       "      <td>Versi barunya bagus!</td>\n",
       "      <td>Banyak kemajuan dengan versi barunya, job well...</td>\n",
       "      <td>5</td>\n",
       "      <td>Positive</td>\n",
       "    </tr>\n",
       "  </tbody>\n",
       "</table>\n",
       "<p>553 rows × 5 columns</p>\n",
       "</div>"
      ],
      "text/plain": [
       "       ID                         TITLE  \\\n",
       "0    1611             Banyak kekurangan   \n",
       "1    1612                  Need update!   \n",
       "2    1613  Baru seperti ini sudah puas?   \n",
       "3    1614                  Crash melulu   \n",
       "4    1615                        Sampah   \n",
       "..    ...                           ...   \n",
       "548  2757                          Usul   \n",
       "549  2758                       Mantap!   \n",
       "550  2759                All in one app   \n",
       "551  2760                       Lumayan   \n",
       "552  2761          Versi barunya bagus!   \n",
       "\n",
       "                                               COMMENT  RATING  SENTIMEN  \n",
       "0    Tidak seperti di iphone menunya kurang, jadwal...       1  Negative  \n",
       "1    Kurang bersahabat ama VoiceOver nih. Semoga ha...       4  Negative  \n",
       "2    Hampir setahun belum ada update, UI tidak ada ...       1  Negative  \n",
       "3    Mohon appnya diperbaiki.. Crashnya ga ketolong...       1  Negative  \n",
       "4    Aplikasi sampah, crash mulu,errorny banyak,ga ...       1  Negative  \n",
       "..                                                 ...     ...       ...  \n",
       "548  Aplikasi yg sangat membantu, ada beberapa usul...       3  Positive  \n",
       "549        Keren gan. Update terus agar lebih lengkap.       5  Positive  \n",
       "550  Applikasi yang sangat berguna untuk aktifitas ...       5  Positive  \n",
       "551  Bagus juga, jadi mudah nyari tempat dan simple...       4  Positive  \n",
       "552  Banyak kemajuan dengan versi barunya, job well...       5  Positive  \n",
       "\n",
       "[553 rows x 5 columns]"
      ]
     },
     "execution_count": 2,
     "metadata": {},
     "output_type": "execute_result"
    }
   ],
   "source": [
    "dataset = pd.read_excel('sentiment-dataset.xlsx')\n",
    "dataset"
   ]
  },
  {
   "cell_type": "code",
   "execution_count": 3,
   "metadata": {},
   "outputs": [
    {
     "name": "stdout",
     "output_type": "stream",
     "text": [
      "0      Negative\n",
      "1      Negative\n",
      "2      Negative\n",
      "3      Negative\n",
      "4      Negative\n",
      "         ...   \n",
      "548    Positive\n",
      "549    Positive\n",
      "550    Positive\n",
      "551    Positive\n",
      "552    Positive\n",
      "Name: SENTIMEN, Length: 553, dtype: category\n",
      "Categories (3, object): [Negative, Neutral, Positive]\n",
      "0      0\n",
      "1      0\n",
      "2      0\n",
      "3      0\n",
      "4      0\n",
      "      ..\n",
      "548    2\n",
      "549    2\n",
      "550    2\n",
      "551    2\n",
      "552    2\n",
      "Name: id_sentimen, Length: 553, dtype: int8\n"
     ]
    }
   ],
   "source": [
    "dataset.SENTIMEN = pd.Categorical(dataset.SENTIMEN) \n",
    "dataset['id_sentimen'] = dataset.SENTIMEN.cat.codes #save into new column\n",
    "print(dataset.SENTIMEN)\n",
    "print(dataset.id_sentimen)"
   ]
  },
  {
   "cell_type": "code",
   "execution_count": 4,
   "metadata": {},
   "outputs": [
    {
     "name": "stdout",
     "output_type": "stream",
     "text": [
      "Requirement already satisfied: Sastrawi in c:\\users\\ines\\anaconda3\\lib\\site-packages (1.0.1)\n"
     ]
    }
   ],
   "source": [
    "!pip install Sastrawi"
   ]
  },
  {
   "cell_type": "code",
   "execution_count": 5,
   "metadata": {},
   "outputs": [],
   "source": [
    "#Cleaning the dataset\n",
    "# from nltk.corpus import stopwords\n",
    "# from nltk.stem.porter import PorterStemmer\n",
    "# import Sastrawi package\n",
    "import re #library for using RegEx\n",
    "import nltk #library for various NLP toolkits\n",
    "# nltk_stopword = stopwords.words('indonesian')\n",
    "from Sastrawi.Stemmer.StemmerFactory import StemmerFactory\n",
    "from Sastrawi.StopWordRemover.StopWordRemoverFactory import StopWordRemoverFactory, StopWordRemover, ArrayDictionary\n",
    "\n",
    "stopwords = StopWordRemoverFactory().get_stop_words()"
   ]
  },
  {
   "cell_type": "code",
   "execution_count": 7,
   "metadata": {},
   "outputs": [],
   "source": [
    "corpus = []\n",
    "for i in range(0,553):\n",
    "    review = re.sub('[^a-zA-Z]', ' ', dataset['COMMENT'][i]) #dataset yg ad angka dihapus yg disimpan dari A-Z yang gede kecil\n",
    "    review = review.lower() #ubah jadi lowercase\n",
    "    review = review.split() #split kalimat jadi kata-kata e.g.['aplikasi', 'keren', 'banget']\n",
    "    factory = StemmerFactory() #punya si sastrawi\n",
    "    stemmer = factory.create_stemmer() #siapin alat buat stemming\n",
    "    review = [stemmer.stem(word) for word in review if not word in set(stopwords)] #untuk setiap kata di review kalau gak termasuk di stopword akan dicoba stemming\n",
    "    review = ' '.join(review)\n",
    "    corpus.append(review)"
   ]
  },
  {
   "cell_type": "code",
   "execution_count": 30,
   "metadata": {},
   "outputs": [],
   "source": [
    "\\"
   ]
  },
  {
   "cell_type": "code",
   "execution_count": 24,
   "metadata": {},
   "outputs": [],
   "source": [
    "#Creating the Bag of Words model\n",
    "from sklearn.feature_extraction.text import CountVectorizer\n",
    "from sklearn.feature_extraction.text import TfidfVectorizer\n",
    "from sklearn.metrics import classification_report, confusion_matrix\n",
    "from sklearn.metrics import f1_score\n",
    "# Splitting training and testing set\n",
    "from sklearn.model_selection import train_test_split #it was \"sklearn.cross_validation\" but now it changed\n",
    "X = corpus\n",
    "y = dataset.id_sentimen\n",
    "X_train, X_test, y_train, y_test = train_test_split(X, y, test_size= 0.30, random_state=0)\n",
    "\n",
    "#vect = CountVectorizer()\n",
    "#vect = CountVectorizer(analyzer='char_wb', ngram_range=(1,1))\n",
    "vect = TfidfVectorizer(analyzer='word', ngram_range=(1,2))\n",
    "\n",
    "\n",
    "X_train = vect.fit_transform(X_train).toarray()\n",
    "X_test = vect.transform(X_test)"
   ]
  },
  {
   "cell_type": "code",
   "execution_count": 23,
   "metadata": {
    "scrolled": true
   },
   "outputs": [
    {
     "name": "stdout",
     "output_type": "stream",
     "text": [
      "              precision    recall  f1-score   support\n",
      "\n",
      "           0       0.58      0.95      0.72        62\n",
      "           1       0.00      0.00      0.00        13\n",
      "           2       0.94      0.66      0.77        91\n",
      "\n",
      "    accuracy                           0.72       166\n",
      "   macro avg       0.51      0.54      0.50       166\n",
      "weighted avg       0.73      0.72      0.69       166\n",
      "\n",
      "[[59  0  3]\n",
      " [12  0  1]\n",
      " [31  0 60]]\n"
     ]
    },
    {
     "name": "stderr",
     "output_type": "stream",
     "text": [
      "C:\\Users\\Ines\\Anaconda3\\lib\\site-packages\\sklearn\\metrics\\classification.py:1437: UndefinedMetricWarning: Precision and F-score are ill-defined and being set to 0.0 in labels with no predicted samples.\n",
      "  'precision', 'predicted', average, warn_for)\n"
     ]
    }
   ],
   "source": [
    "# Fitting MultinomialNB Classifier to the training set\n",
    "#from sklearn.naive_bayes import MultinomialNB\n",
    "classifier = MultinomialNB()\n",
    "classifier.fit(X_train, y_train)\n",
    "\n",
    "# classifier = MultinomialNaiveBayes()\n",
    "# classifier.fit(X_train, y_train)\n",
    "\n",
    "# Predicting test results\n",
    "y_pred = classifier.predict(X_test)\n",
    "ytest = np.array(y_test)\n",
    "\n",
    "# f1_score(ytest, y_pred, average='weighted')\n",
    "print(classification_report(ytest, y_pred))\n",
    "print(confusion_matrix(ytest, y_pred))"
   ]
  },
  {
   "cell_type": "code",
   "execution_count": null,
   "metadata": {},
   "outputs": [],
   "source": []
  },
  {
   "cell_type": "code",
   "execution_count": null,
   "metadata": {},
   "outputs": [],
   "source": []
  },
  {
   "cell_type": "code",
   "execution_count": null,
   "metadata": {},
   "outputs": [],
   "source": [
    "test = ['Aplikasi gk berguna']\n",
    "res = classifier.predict(vect.transform(test))\n",
    "res[0]"
   ]
  },
  {
   "cell_type": "code",
   "execution_count": null,
   "metadata": {},
   "outputs": [],
   "source": []
  },
  {
   "cell_type": "code",
   "execution_count": null,
   "metadata": {},
   "outputs": [],
   "source": []
  }
 ],
 "metadata": {
  "kernelspec": {
   "display_name": "Python 3",
   "language": "python",
   "name": "python3"
  },
  "language_info": {
   "codemirror_mode": {
    "name": "ipython",
    "version": 3
   },
   "file_extension": ".py",
   "mimetype": "text/x-python",
   "name": "python",
   "nbconvert_exporter": "python",
   "pygments_lexer": "ipython3",
   "version": "3.7.4"
  }
 },
 "nbformat": 4,
 "nbformat_minor": 2
}
